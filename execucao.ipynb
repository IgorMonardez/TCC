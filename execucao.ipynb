{
 "cells": [
  {
   "metadata": {},
   "cell_type": "code",
   "outputs": [],
   "execution_count": null,
   "source": "",
   "id": "cec4ea71e0406de6"
  },
  {
   "metadata": {},
   "cell_type": "markdown",
   "source": "*Grafo bipartido*",
   "id": "83df826582edb31e"
  },
  {
   "metadata": {
    "ExecuteTime": {
     "end_time": "2025-10-03T14:37:32.842380Z",
     "start_time": "2025-10-03T14:35:26.053994Z"
    }
   },
   "cell_type": "code",
   "source": [
    "from igraph import Graph, plot\n",
    "from metodos import gera_grafo_igraph\n",
    "from algoritmo_indutivo import aplica_ativacao, algoritmo_indutivo\n",
    "import matplotlib.pyplot as plt\n",
    "grafo_bipartido = gera_grafo_igraph(Graph.Random_Bipartite(6,6, m = 21))\n",
    "n = 10\n",
    "contagem = 0\n",
    "print(grafo_bipartido)\n",
    "for i in range(n):\n",
    "    result = algoritmo_indutivo(grafo_bipartido)\n",
    "    if aplica_ativacao(grafo_bipartido, result):\n",
    "        contagem += 1\n",
    "        print(\"correto: \", result)\n",
    "    else:\n",
    "        print(\"errado: \", result)\n",
    "print(\"resultado: \", contagem / n)"
   ],
   "id": "964dde1955ffba59",
   "outputs": [
    {
     "name": "stdout",
     "output_type": "stream",
     "text": [
      "{'0': [['7', '9', '10', '11'], True], '1': [['7', '8', '10', '11'], True], '2': [['6', '8'], True], '3': [['6', '7', '9'], True], '4': [['6', '9', '10'], True], '5': [['6', '7', '9', '10', '11'], True], '6': [['2', '3', '4', '5'], True], '7': [['0', '1', '3', '5'], True], '8': [['1', '2'], True], '9': [['0', '3', '4', '5'], True], '10': [['0', '1', '4', '5'], True], '11': [['0', '1', '5'], True]}\n",
      "correto:  {'9', '10', '6', '3', '5', '11', '1'}\n",
      "correto:  {'9', '10', '6', '3', '5', '11', '1'}\n",
      "correto:  {'9', '10', '6', '3', '5', '11', '1'}\n",
      "correto:  {'9', '7', '6', '4', '5', '11', '1'}\n",
      "correto:  {'9', '7', '6', '4', '5', '11', '1'}\n",
      "correto:  {'9', '7', '6', '4', '5', '11', '1'}\n",
      "correto:  {'9', '10', '6', '3', '5', '11', '1'}\n",
      "correto:  {'9', '7', '6', '4', '5', '11', '1'}\n",
      "correto:  {'9', '7', '6', '4', '5', '11', '1'}\n",
      "correto:  {'9', '7', '6', '4', '5', '11', '1'}\n",
      "resultado:  1.0\n"
     ]
    }
   ],
   "execution_count": 1
  },
  {
   "metadata": {},
   "cell_type": "markdown",
   "source": "*Grafo árvore*",
   "id": "97f13c1e65965ddb"
  },
  {
   "metadata": {
    "ExecuteTime": {
     "end_time": "2025-10-03T14:48:03.562064Z",
     "start_time": "2025-10-03T14:46:21.528443Z"
    }
   },
   "cell_type": "code",
   "source": [
    "from igraph import Graph, plot\n",
    "from metodos import gera_grafo_igraph\n",
    "from algoritmo_indutivo import aplica_ativacao, algoritmo_indutivo\n",
    "import matplotlib.pyplot as plt\n",
    "grafo_tree = gera_grafo_igraph(Graph.Tree(n=30, children=2))\n",
    "contagem = 0\n",
    "print(grafo_tree)\n",
    "for i in range(n):\n",
    "    result = algoritmo_indutivo(grafo_tree)\n",
    "    if aplica_ativacao(grafo_tree, result):\n",
    "        contagem += 1\n",
    "        print(\"correto: \", result)\n",
    "    else:\n",
    "        print(\"errado: \", result)\n",
    "\n",
    "print(\"tree: \", contagem / n)\n",
    "print(\"\\n\")"
   ],
   "id": "10934d03e2f9611b",
   "outputs": [
    {
     "name": "stdout",
     "output_type": "stream",
     "text": [
      "{'0': [['1', '2'], True], '1': [['0', '3', '4'], True], '2': [['0', '5', '6'], True], '3': [['1', '7', '8'], True], '4': [['1', '9', '10'], True], '5': [['2', '11', '12'], True], '6': [['2', '13', '14'], True], '7': [['3', '15', '16'], True], '8': [['3', '17', '18'], True], '9': [['4', '19', '20'], True], '10': [['4', '21', '22'], True], '11': [['5', '23', '24'], True], '12': [['5', '25', '26'], True], '13': [['6', '27', '28'], True], '14': [['6', '29'], True], '15': [['7'], True], '16': [['7'], True], '17': [['8'], True], '18': [['8'], True], '19': [['9'], True], '20': [['9'], True], '21': [['10'], True], '22': [['10'], True], '23': [['11'], True], '24': [['11'], True], '25': [['12'], True], '26': [['12'], True], '27': [['13'], True], '28': [['13'], True], '29': [['14'], True]}\n"
     ]
    },
    {
     "ename": "KeyboardInterrupt",
     "evalue": "",
     "output_type": "error",
     "traceback": [
      "\u001B[1;31m---------------------------------------------------------------------------\u001B[0m",
      "\u001B[1;31mKeyboardInterrupt\u001B[0m                         Traceback (most recent call last)",
      "Cell \u001B[1;32mIn[2], line 5\u001B[0m\n\u001B[0;32m      3\u001B[0m \u001B[38;5;28mprint\u001B[39m(grafo_tree)\n\u001B[0;32m      4\u001B[0m \u001B[38;5;28;01mfor\u001B[39;00m i \u001B[38;5;129;01min\u001B[39;00m \u001B[38;5;28mrange\u001B[39m(n):\n\u001B[1;32m----> 5\u001B[0m     result \u001B[38;5;241m=\u001B[39m \u001B[43malgoritmo_indutivo\u001B[49m\u001B[43m(\u001B[49m\u001B[43mgrafo_tree\u001B[49m\u001B[43m)\u001B[49m\n\u001B[0;32m      6\u001B[0m     \u001B[38;5;28;01mif\u001B[39;00m aplica_ativacao(grafo_tree, result):\n\u001B[0;32m      7\u001B[0m         contagem \u001B[38;5;241m+\u001B[39m\u001B[38;5;241m=\u001B[39m \u001B[38;5;241m1\u001B[39m\n",
      "File \u001B[1;32m~\\Documents\\UFF\\TCC\\algoritmo_indutivo\\algoritmo_indutivo.py:100\u001B[0m, in \u001B[0;36malgoritmo_indutivo\u001B[1;34m(grafo)\u001B[0m\n\u001B[0;32m     96\u001B[0m \u001B[38;5;28;01mfor\u001B[39;00m v \u001B[38;5;129;01min\u001B[39;00m vertices:\n\u001B[0;32m     97\u001B[0m     \u001B[38;5;66;03m# print(\"n: \", n)\u001B[39;00m\n\u001B[0;32m     98\u001B[0m     \u001B[38;5;66;03m# print(\"v: \", v)\u001B[39;00m\n\u001B[0;32m     99\u001B[0m     grafo_v \u001B[38;5;241m=\u001B[39m retira_vertice(grafo, v)\n\u001B[1;32m--> 100\u001B[0m     solucao_v \u001B[38;5;241m=\u001B[39m \u001B[43malgoritmo_indutivo\u001B[49m\u001B[43m(\u001B[49m\u001B[43mgrafo_v\u001B[49m\u001B[43m)\u001B[49m\n\u001B[0;32m    101\u001B[0m     \u001B[38;5;28;01mif\u001B[39;00m aplica_ativacao(grafo, solucao_v):\n\u001B[0;32m    102\u001B[0m         \u001B[38;5;28;01mreturn\u001B[39;00m solucao_v\n",
      "File \u001B[1;32m~\\Documents\\UFF\\TCC\\algoritmo_indutivo\\algoritmo_indutivo.py:100\u001B[0m, in \u001B[0;36malgoritmo_indutivo\u001B[1;34m(grafo)\u001B[0m\n\u001B[0;32m     96\u001B[0m \u001B[38;5;28;01mfor\u001B[39;00m v \u001B[38;5;129;01min\u001B[39;00m vertices:\n\u001B[0;32m     97\u001B[0m     \u001B[38;5;66;03m# print(\"n: \", n)\u001B[39;00m\n\u001B[0;32m     98\u001B[0m     \u001B[38;5;66;03m# print(\"v: \", v)\u001B[39;00m\n\u001B[0;32m     99\u001B[0m     grafo_v \u001B[38;5;241m=\u001B[39m retira_vertice(grafo, v)\n\u001B[1;32m--> 100\u001B[0m     solucao_v \u001B[38;5;241m=\u001B[39m \u001B[43malgoritmo_indutivo\u001B[49m\u001B[43m(\u001B[49m\u001B[43mgrafo_v\u001B[49m\u001B[43m)\u001B[49m\n\u001B[0;32m    101\u001B[0m     \u001B[38;5;28;01mif\u001B[39;00m aplica_ativacao(grafo, solucao_v):\n\u001B[0;32m    102\u001B[0m         \u001B[38;5;28;01mreturn\u001B[39;00m solucao_v\n",
      "    \u001B[1;31m[... skipping similar frames: algoritmo_indutivo at line 100 (18 times)]\u001B[0m\n",
      "File \u001B[1;32m~\\Documents\\UFF\\TCC\\algoritmo_indutivo\\algoritmo_indutivo.py:100\u001B[0m, in \u001B[0;36malgoritmo_indutivo\u001B[1;34m(grafo)\u001B[0m\n\u001B[0;32m     96\u001B[0m \u001B[38;5;28;01mfor\u001B[39;00m v \u001B[38;5;129;01min\u001B[39;00m vertices:\n\u001B[0;32m     97\u001B[0m     \u001B[38;5;66;03m# print(\"n: \", n)\u001B[39;00m\n\u001B[0;32m     98\u001B[0m     \u001B[38;5;66;03m# print(\"v: \", v)\u001B[39;00m\n\u001B[0;32m     99\u001B[0m     grafo_v \u001B[38;5;241m=\u001B[39m retira_vertice(grafo, v)\n\u001B[1;32m--> 100\u001B[0m     solucao_v \u001B[38;5;241m=\u001B[39m \u001B[43malgoritmo_indutivo\u001B[49m\u001B[43m(\u001B[49m\u001B[43mgrafo_v\u001B[49m\u001B[43m)\u001B[49m\n\u001B[0;32m    101\u001B[0m     \u001B[38;5;28;01mif\u001B[39;00m aplica_ativacao(grafo, solucao_v):\n\u001B[0;32m    102\u001B[0m         \u001B[38;5;28;01mreturn\u001B[39;00m solucao_v\n",
      "File \u001B[1;32m~\\Documents\\UFF\\TCC\\algoritmo_indutivo\\algoritmo_indutivo.py:120\u001B[0m, in \u001B[0;36malgoritmo_indutivo\u001B[1;34m(grafo)\u001B[0m\n\u001B[0;32m    118\u001B[0m \u001B[38;5;28;01mfor\u001B[39;00m w \u001B[38;5;129;01min\u001B[39;00m grafo_v:\n\u001B[0;32m    119\u001B[0m     grafo_w \u001B[38;5;241m=\u001B[39m retira_vertice(grafo, w)\n\u001B[1;32m--> 120\u001B[0m     solucao_w \u001B[38;5;241m=\u001B[39m \u001B[43malgoritmo_indutivo\u001B[49m\u001B[43m(\u001B[49m\u001B[43mgrafo_w\u001B[49m\u001B[43m)\u001B[49m\n\u001B[0;32m    121\u001B[0m     solucao \u001B[38;5;241m=\u001B[39m uniao(solucao, solucao_w)\n\u001B[0;32m    123\u001B[0m \u001B[38;5;28;01mreturn\u001B[39;00m solucao\n",
      "File \u001B[1;32m~\\Documents\\UFF\\TCC\\algoritmo_indutivo\\algoritmo_indutivo.py:110\u001B[0m, in \u001B[0;36malgoritmo_indutivo\u001B[1;34m(grafo)\u001B[0m\n\u001B[0;32m    108\u001B[0m \u001B[38;5;28;01mfor\u001B[39;00m w \u001B[38;5;129;01min\u001B[39;00m vertices_v:\n\u001B[0;32m    109\u001B[0m     grafo_w \u001B[38;5;241m=\u001B[39m retira_vertice(grafo, w)\n\u001B[1;32m--> 110\u001B[0m     solucao_w \u001B[38;5;241m=\u001B[39m \u001B[43malgoritmo_indutivo\u001B[49m\u001B[43m(\u001B[49m\u001B[43mgrafo_w\u001B[49m\u001B[43m)\u001B[49m\n\u001B[0;32m    111\u001B[0m     solucao \u001B[38;5;241m=\u001B[39m uniao(solucao, solucao_w)\n\u001B[0;32m    113\u001B[0m \u001B[38;5;28;01mreturn\u001B[39;00m solucao\n",
      "File \u001B[1;32m~\\Documents\\UFF\\TCC\\algoritmo_indutivo\\algoritmo_indutivo.py:100\u001B[0m, in \u001B[0;36malgoritmo_indutivo\u001B[1;34m(grafo)\u001B[0m\n\u001B[0;32m     96\u001B[0m \u001B[38;5;28;01mfor\u001B[39;00m v \u001B[38;5;129;01min\u001B[39;00m vertices:\n\u001B[0;32m     97\u001B[0m     \u001B[38;5;66;03m# print(\"n: \", n)\u001B[39;00m\n\u001B[0;32m     98\u001B[0m     \u001B[38;5;66;03m# print(\"v: \", v)\u001B[39;00m\n\u001B[0;32m     99\u001B[0m     grafo_v \u001B[38;5;241m=\u001B[39m retira_vertice(grafo, v)\n\u001B[1;32m--> 100\u001B[0m     solucao_v \u001B[38;5;241m=\u001B[39m \u001B[43malgoritmo_indutivo\u001B[49m\u001B[43m(\u001B[49m\u001B[43mgrafo_v\u001B[49m\u001B[43m)\u001B[49m\n\u001B[0;32m    101\u001B[0m     \u001B[38;5;28;01mif\u001B[39;00m aplica_ativacao(grafo, solucao_v):\n\u001B[0;32m    102\u001B[0m         \u001B[38;5;28;01mreturn\u001B[39;00m solucao_v\n",
      "File \u001B[1;32m~\\Documents\\UFF\\TCC\\algoritmo_indutivo\\algoritmo_indutivo.py:110\u001B[0m, in \u001B[0;36malgoritmo_indutivo\u001B[1;34m(grafo)\u001B[0m\n\u001B[0;32m    108\u001B[0m \u001B[38;5;28;01mfor\u001B[39;00m w \u001B[38;5;129;01min\u001B[39;00m vertices_v:\n\u001B[0;32m    109\u001B[0m     grafo_w \u001B[38;5;241m=\u001B[39m retira_vertice(grafo, w)\n\u001B[1;32m--> 110\u001B[0m     solucao_w \u001B[38;5;241m=\u001B[39m \u001B[43malgoritmo_indutivo\u001B[49m\u001B[43m(\u001B[49m\u001B[43mgrafo_w\u001B[49m\u001B[43m)\u001B[49m\n\u001B[0;32m    111\u001B[0m     solucao \u001B[38;5;241m=\u001B[39m uniao(solucao, solucao_w)\n\u001B[0;32m    113\u001B[0m \u001B[38;5;28;01mreturn\u001B[39;00m solucao\n",
      "File \u001B[1;32m~\\Documents\\UFF\\TCC\\algoritmo_indutivo\\algoritmo_indutivo.py:120\u001B[0m, in \u001B[0;36malgoritmo_indutivo\u001B[1;34m(grafo)\u001B[0m\n\u001B[0;32m    118\u001B[0m \u001B[38;5;28;01mfor\u001B[39;00m w \u001B[38;5;129;01min\u001B[39;00m grafo_v:\n\u001B[0;32m    119\u001B[0m     grafo_w \u001B[38;5;241m=\u001B[39m retira_vertice(grafo, w)\n\u001B[1;32m--> 120\u001B[0m     solucao_w \u001B[38;5;241m=\u001B[39m \u001B[43malgoritmo_indutivo\u001B[49m\u001B[43m(\u001B[49m\u001B[43mgrafo_w\u001B[49m\u001B[43m)\u001B[49m\n\u001B[0;32m    121\u001B[0m     solucao \u001B[38;5;241m=\u001B[39m uniao(solucao, solucao_w)\n\u001B[0;32m    123\u001B[0m \u001B[38;5;28;01mreturn\u001B[39;00m solucao\n",
      "File \u001B[1;32m~\\Documents\\UFF\\TCC\\algoritmo_indutivo\\algoritmo_indutivo.py:100\u001B[0m, in \u001B[0;36malgoritmo_indutivo\u001B[1;34m(grafo)\u001B[0m\n\u001B[0;32m     96\u001B[0m \u001B[38;5;28;01mfor\u001B[39;00m v \u001B[38;5;129;01min\u001B[39;00m vertices:\n\u001B[0;32m     97\u001B[0m     \u001B[38;5;66;03m# print(\"n: \", n)\u001B[39;00m\n\u001B[0;32m     98\u001B[0m     \u001B[38;5;66;03m# print(\"v: \", v)\u001B[39;00m\n\u001B[0;32m     99\u001B[0m     grafo_v \u001B[38;5;241m=\u001B[39m retira_vertice(grafo, v)\n\u001B[1;32m--> 100\u001B[0m     solucao_v \u001B[38;5;241m=\u001B[39m \u001B[43malgoritmo_indutivo\u001B[49m\u001B[43m(\u001B[49m\u001B[43mgrafo_v\u001B[49m\u001B[43m)\u001B[49m\n\u001B[0;32m    101\u001B[0m     \u001B[38;5;28;01mif\u001B[39;00m aplica_ativacao(grafo, solucao_v):\n\u001B[0;32m    102\u001B[0m         \u001B[38;5;28;01mreturn\u001B[39;00m solucao_v\n",
      "File \u001B[1;32m~\\Documents\\UFF\\TCC\\algoritmo_indutivo\\algoritmo_indutivo.py:121\u001B[0m, in \u001B[0;36malgoritmo_indutivo\u001B[1;34m(grafo)\u001B[0m\n\u001B[0;32m    119\u001B[0m     grafo_w \u001B[38;5;241m=\u001B[39m retira_vertice(grafo, w)\n\u001B[0;32m    120\u001B[0m     solucao_w \u001B[38;5;241m=\u001B[39m algoritmo_indutivo(grafo_w)\n\u001B[1;32m--> 121\u001B[0m     solucao \u001B[38;5;241m=\u001B[39m \u001B[43muniao\u001B[49m\u001B[43m(\u001B[49m\u001B[43msolucao\u001B[49m\u001B[43m,\u001B[49m\u001B[43m \u001B[49m\u001B[43msolucao_w\u001B[49m\u001B[43m)\u001B[49m\n\u001B[0;32m    123\u001B[0m \u001B[38;5;28;01mreturn\u001B[39;00m solucao\n",
      "File \u001B[1;32m~\\Documents\\UFF\\TCC\\algoritmo_indutivo\\algoritmo_indutivo.py:72\u001B[0m, in \u001B[0;36muniao\u001B[1;34m(s1, s2)\u001B[0m\n\u001B[0;32m     71\u001B[0m \u001B[38;5;28;01mdef\u001B[39;00m\u001B[38;5;250m \u001B[39m\u001B[38;5;21muniao\u001B[39m(s1, s2):\n\u001B[1;32m---> 72\u001B[0m     s \u001B[38;5;241m=\u001B[39m \u001B[38;5;28;43mset\u001B[39;49m()\n\u001B[0;32m     74\u001B[0m     \u001B[38;5;28;01mfor\u001B[39;00m i \u001B[38;5;129;01min\u001B[39;00m s1:\n\u001B[0;32m     75\u001B[0m         \u001B[38;5;28;01mif\u001B[39;00m i \u001B[38;5;129;01mnot\u001B[39;00m \u001B[38;5;129;01min\u001B[39;00m s2:\n",
      "\u001B[1;31mKeyboardInterrupt\u001B[0m: "
     ]
    }
   ],
   "execution_count": 2
  },
  {
   "metadata": {},
   "cell_type": "markdown",
   "source": "*Grafo grid*",
   "id": "dc4cc2227c299151"
  },
  {
   "metadata": {
    "ExecuteTime": {
     "end_time": "2025-10-03T14:53:19.647167Z",
     "start_time": "2025-10-03T14:53:17.647217Z"
    }
   },
   "cell_type": "code",
   "source": [
    "from igraph import Graph, plot\n",
    "from metodos import gera_grafo_igraph\n",
    "from algoritmo_indutivo import aplica_ativacao, algoritmo_indutivo\n",
    "import matplotlib.pyplot as plt\n",
    "grafo_grid_visual = Graph.Lattice(dim=[4,4])\n",
    "grafo_grid = gera_grafo_igraph(grafo_grid_visual)\n",
    "layout_grid = grafo_grid_visual.layout('grid')\n",
    "    \n",
    "fig, ax1 = plt.subplots(1, 2, figsize=(12, 5))\n",
    "    \n",
    "plot(grafo_grid_visual, layout=layout_grid, target=ax1)\n",
    "ax1.set_title('Grafo Grid 4x4')\n",
    "plt.tight_layout()\n",
    "plt.show()\n",
    "n=10\n",
    "contagem = 0\n",
    "print(grafo_grid)\n",
    "for i in range(n):\n",
    "    result = algoritmo_indutivo(grafo_grid)\n",
    "    if aplica_ativacao(grafo_grid, result):\n",
    "        contagem += 1\n",
    "        print(\"correto: \", result)\n",
    "    else:\n",
    "        print(\"errado: \", result)\n",
    "\n",
    "print(\"tree: \", contagem / n)\n",
    "print(\"\\n\")"
   ],
   "id": "523c216b9ef4f747",
   "outputs": [
    {
     "ename": "AttributeError",
     "evalue": "Plotting not available; please install pycairo or cairocffi",
     "output_type": "error",
     "traceback": [
      "\u001B[1;31m---------------------------------------------------------------------------\u001B[0m",
      "\u001B[1;31mAttributeError\u001B[0m                            Traceback (most recent call last)",
      "Cell \u001B[1;32mIn[1], line 11\u001B[0m\n\u001B[0;32m      7\u001B[0m layout_grid \u001B[38;5;241m=\u001B[39m grafo_grid_visual\u001B[38;5;241m.\u001B[39mlayout(\u001B[38;5;124m'\u001B[39m\u001B[38;5;124mgrid\u001B[39m\u001B[38;5;124m'\u001B[39m)\n\u001B[0;32m      9\u001B[0m fig, ax1 \u001B[38;5;241m=\u001B[39m plt\u001B[38;5;241m.\u001B[39msubplots(\u001B[38;5;241m1\u001B[39m, \u001B[38;5;241m2\u001B[39m, figsize\u001B[38;5;241m=\u001B[39m(\u001B[38;5;241m12\u001B[39m, \u001B[38;5;241m5\u001B[39m))\n\u001B[1;32m---> 11\u001B[0m \u001B[43mplot\u001B[49m\u001B[43m(\u001B[49m\u001B[43mgrafo_grid_visual\u001B[49m\u001B[43m,\u001B[49m\u001B[43m \u001B[49m\u001B[43mlayout\u001B[49m\u001B[38;5;241;43m=\u001B[39;49m\u001B[43mlayout_grid\u001B[49m\u001B[43m,\u001B[49m\u001B[43m \u001B[49m\u001B[43mtarget\u001B[49m\u001B[38;5;241;43m=\u001B[39;49m\u001B[43max1\u001B[49m\u001B[43m)\u001B[49m\n\u001B[0;32m     12\u001B[0m ax1\u001B[38;5;241m.\u001B[39mset_title(\u001B[38;5;124m'\u001B[39m\u001B[38;5;124mGrafo Grid 4x4\u001B[39m\u001B[38;5;124m'\u001B[39m)\n\u001B[0;32m     13\u001B[0m plt\u001B[38;5;241m.\u001B[39mtight_layout()\n",
      "File \u001B[1;32m~\\Documents\\UFF\\TCC\\algoritmo_indutivo\\.venv\\lib\\site-packages\\igraph\\drawing\\__init__.py:299\u001B[0m, in \u001B[0;36mplot\u001B[1;34m(obj, target, bbox, *args, **kwds)\u001B[0m\n\u001B[0;32m    297\u001B[0m background \u001B[38;5;241m=\u001B[39m kwds\u001B[38;5;241m.\u001B[39mpop(\u001B[38;5;124m\"\u001B[39m\u001B[38;5;124mbackground\u001B[39m\u001B[38;5;124m\"\u001B[39m, \u001B[38;5;124m\"\u001B[39m\u001B[38;5;124mwhite\u001B[39m\u001B[38;5;124m\"\u001B[39m)\n\u001B[0;32m    298\u001B[0m margin \u001B[38;5;241m=\u001B[39m \u001B[38;5;28mfloat\u001B[39m(kwds\u001B[38;5;241m.\u001B[39mpop(\u001B[38;5;124m\"\u001B[39m\u001B[38;5;124mmargin\u001B[39m\u001B[38;5;124m\"\u001B[39m, \u001B[38;5;241m20\u001B[39m))\n\u001B[1;32m--> 299\u001B[0m result \u001B[38;5;241m=\u001B[39m \u001B[43mCairoPlot\u001B[49m\u001B[43m(\u001B[49m\n\u001B[0;32m    300\u001B[0m \u001B[43m    \u001B[49m\u001B[43mtarget\u001B[49m\u001B[38;5;241;43m=\u001B[39;49m\u001B[43mtarget\u001B[49m\u001B[43m,\u001B[49m\n\u001B[0;32m    301\u001B[0m \u001B[43m    \u001B[49m\u001B[43mbbox\u001B[49m\u001B[38;5;241;43m=\u001B[39;49m\u001B[43mbbox\u001B[49m\u001B[43m,\u001B[49m\n\u001B[0;32m    302\u001B[0m \u001B[43m    \u001B[49m\u001B[43mpalette\u001B[49m\u001B[38;5;241;43m=\u001B[39;49m\u001B[43mpalette\u001B[49m\u001B[43m,\u001B[49m\n\u001B[0;32m    303\u001B[0m \u001B[43m    \u001B[49m\u001B[43mbackground\u001B[49m\u001B[38;5;241;43m=\u001B[39;49m\u001B[43mbackground\u001B[49m\u001B[43m,\u001B[49m\n\u001B[0;32m    304\u001B[0m \u001B[43m\u001B[49m\u001B[43m)\u001B[49m\n\u001B[0;32m    305\u001B[0m item_bbox \u001B[38;5;241m=\u001B[39m result\u001B[38;5;241m.\u001B[39mbbox\u001B[38;5;241m.\u001B[39mcontract(margin)\n\u001B[0;32m    306\u001B[0m result\u001B[38;5;241m.\u001B[39madd(obj, item_bbox, \u001B[38;5;241m*\u001B[39margs, \u001B[38;5;241m*\u001B[39m\u001B[38;5;241m*\u001B[39mkwds)\n",
      "File \u001B[1;32m~\\Documents\\UFF\\TCC\\algoritmo_indutivo\\.venv\\lib\\site-packages\\igraph\\drawing\\cairo\\plot.py:151\u001B[0m, in \u001B[0;36mCairoPlot.__init__\u001B[1;34m(self, target, bbox, palette, background)\u001B[0m\n\u001B[0;32m    147\u001B[0m     \u001B[38;5;28mself\u001B[39m\u001B[38;5;241m.\u001B[39m_need_tmpfile \u001B[38;5;241m=\u001B[39m \u001B[38;5;28;01mTrue\u001B[39;00m\n\u001B[0;32m    148\u001B[0m     \u001B[38;5;28mself\u001B[39m\u001B[38;5;241m.\u001B[39m_surface \u001B[38;5;241m=\u001B[39m cairo\u001B[38;5;241m.\u001B[39mImageSurface(\n\u001B[0;32m    149\u001B[0m         cairo\u001B[38;5;241m.\u001B[39mFORMAT_ARGB32, \u001B[38;5;28mint\u001B[39m(\u001B[38;5;28mself\u001B[39m\u001B[38;5;241m.\u001B[39mbbox\u001B[38;5;241m.\u001B[39mwidth), \u001B[38;5;28mint\u001B[39m(\u001B[38;5;28mself\u001B[39m\u001B[38;5;241m.\u001B[39mbbox\u001B[38;5;241m.\u001B[39mheight)\n\u001B[0;32m    150\u001B[0m     )\n\u001B[1;32m--> 151\u001B[0m \u001B[38;5;28;01melif\u001B[39;00m \u001B[38;5;28misinstance\u001B[39m(target, \u001B[43mcairo\u001B[49m\u001B[38;5;241;43m.\u001B[39;49m\u001B[43mSurface\u001B[49m):\n\u001B[0;32m    152\u001B[0m     \u001B[38;5;28mself\u001B[39m\u001B[38;5;241m.\u001B[39m_surface \u001B[38;5;241m=\u001B[39m target\n\u001B[0;32m    153\u001B[0m \u001B[38;5;28;01melse\u001B[39;00m:\n",
      "File \u001B[1;32m~\\Documents\\UFF\\TCC\\algoritmo_indutivo\\.venv\\lib\\site-packages\\igraph\\drawing\\utils.py:428\u001B[0m, in \u001B[0;36mFakeModule.__getattr__\u001B[1;34m(self, _)\u001B[0m\n\u001B[0;32m    427\u001B[0m \u001B[38;5;28;01mdef\u001B[39;00m\u001B[38;5;250m \u001B[39m\u001B[38;5;21m__getattr__\u001B[39m(\u001B[38;5;28mself\u001B[39m, _):\n\u001B[1;32m--> 428\u001B[0m     \u001B[38;5;28;01mraise\u001B[39;00m \u001B[38;5;167;01mAttributeError\u001B[39;00m(\u001B[38;5;28mself\u001B[39m\u001B[38;5;241m.\u001B[39m_message)\n",
      "\u001B[1;31mAttributeError\u001B[0m: Plotting not available; please install pycairo or cairocffi"
     ]
    },
    {
     "data": {
      "text/plain": [
       "<Figure size 1200x500 with 2 Axes>"
      ],
      "image/png": "[encoded data removed]"
     },
     "metadata": {},
     "output_type": "display_data"
    }
   ],
   "execution_count": 1
  },
  {
   "metadata": {},
   "cell_type": "code",
   "outputs": [],
   "execution_count": null,
   "source": "",
   "id": "c7190caa7131f7e7"
  }
 ],
 "metadata": {
  "kernelspec": {
   "display_name": "Python 3",
   "language": "python",
   "name": "python3"
  },
  "language_info": {
   "codemirror_mode": {
    "name": "ipython",
    "version": 2
   },
   "file_extension": ".py",
   "mimetype": "text/x-python",
   "name": "python",
   "nbconvert_exporter": "python",
   "pygments_lexer": "ipython2",
   "version": "2.7.6"
  }
 },
 "nbformat": 4,
 "nbformat_minor": 5
}
